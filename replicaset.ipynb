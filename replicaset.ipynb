{
 "cells": [
  {
   "attachments": {},
   "cell_type": "markdown",
   "metadata": {},
   "source": [
    "Requisitos\n",
    "************\n",
    "La instancia de Mongod ya se está ejecutando en el sistema con el puerto predeterminado 27017."
   ]
  },
  {
   "cell_type": "code",
   "execution_count": null,
   "metadata": {
    "vscode": {
     "languageId": "plaintext"
    }
   },
   "outputs": [],
   "source": [
    "Binario : \"C:\\Program Files\\MongoDB\\Server\\4.4\\bin\"\n",
    "--dbpath : \"C:\\Program Files\\MongoDB\\Server\\4.4\\data\\db\"\n",
    "--logpath : \"C:\\Program Files\\MongoDB\\Server\\4.4\\log\\mongod.log\"\n",
    "--port        :27017\n",
    "--storageEngine : \"wiredTiger\""
   ]
  },
  {
   "attachments": {},
   "cell_type": "markdown",
   "metadata": {},
   "source": [
    "Configuración primer nodo esclavo"
   ]
  },
  {
   "cell_type": "code",
   "execution_count": null,
   "metadata": {
    "vscode": {
     "languageId": "plaintext"
    }
   },
   "outputs": [],
   "source": [
    "--dbpath \"c:\\data1\\db\"\n",
    "--logpath \"c:\\data1\\log\\mongod.log\"\n",
    "--storageEngine \"wiredTiger\"\n",
    "--port 27020\n",
    "--replSet testrep"
   ]
  },
  {
   "cell_type": "code",
   "execution_count": null,
   "metadata": {
    "vscode": {
     "languageId": "plaintext"
    }
   },
   "outputs": [],
   "source": [
    "Configuración Segundo nodo esclavo"
   ]
  },
  {
   "cell_type": "code",
   "execution_count": null,
   "metadata": {
    "vscode": {
     "languageId": "plaintext"
    }
   },
   "outputs": [],
   "source": [
    "--dbpath \"c:\\data2\\db\"\n",
    "--logpath \"c:\\data2\\log\\mongod.log\"\n",
    "--storageEngine \"wiredTiger\"\n",
    "--port 27030\n",
    "--replSet testrep"
   ]
  },
  {
   "attachments": {},
   "cell_type": "markdown",
   "metadata": {},
   "source": [
    "Configuración Tercer nodo esclavo"
   ]
  },
  {
   "cell_type": "code",
   "execution_count": null,
   "metadata": {
    "vscode": {
     "languageId": "plaintext"
    }
   },
   "outputs": [],
   "source": [
    "--dbpath \"c:\\data3\\db\"\n",
    "--logpath \"c:\\data3\\log\\mongod.log\"\n",
    "--storageEngine \"wiredTiger\"\n",
    "--port 27040\n",
    "--replSet testrep"
   ]
  },
  {
   "attachments": {},
   "cell_type": "markdown",
   "metadata": {},
   "source": [
    "Paso 1: Crear las carpetas a continuación para ambos esclavos para el archivo de base de datos, el archivo de registro y los archivos de configuración"
   ]
  },
  {
   "cell_type": "code",
   "execution_count": null,
   "metadata": {
    "vscode": {
     "languageId": "plaintext"
    }
   },
   "outputs": [],
   "source": [
    "mkdir  c:\\data1\\config  c:\\data1\\db  c:\\data1\\log\n",
    "mkdir c:\\data2\\config  c:\\data2\\db  c:\\data2\\log\n",
    "mkdir c:\\data3\\config  c:\\data3\\db  c:\\data3\\log"
   ]
  },
  {
   "attachments": {},
   "cell_type": "markdown",
   "metadata": {},
   "source": [
    "Paso 2: Creación del archivo de configuración del primer nodo esclavo"
   ]
  },
  {
   "cell_type": "code",
   "execution_count": null,
   "metadata": {
    "vscode": {
     "languageId": "plaintext"
    }
   },
   "outputs": [],
   "source": [
    "\tcmd > cd c:\\data1\\log\\notepad  c:\\data1\\config\\mongod.cnf \n",
    "\t\tdbpath=c:\\data1\\db\n",
    "\t\tlog=c:\\data1\\log\\mongo\n",
    "\t\tport=27020"
   ]
  },
  {
   "attachments": {},
   "cell_type": "markdown",
   "metadata": {},
   "source": [
    "Paso 3: Creación del archivo de configuración del segundo nodo esclavo"
   ]
  },
  {
   "cell_type": "code",
   "execution_count": null,
   "metadata": {
    "vscode": {
     "languageId": "plaintext"
    }
   },
   "outputs": [],
   "source": [
    "\tcmd > cd c:\\data2\\log\\notepad  c:\\data2\\config\\mongod.cnf \n",
    "\t\tdbpath=c:\\data2\\db\n",
    "\t\tlog=c:\\data2\\log\\mongo\n",
    "\t\tport=27030"
   ]
  },
  {
   "attachments": {},
   "cell_type": "markdown",
   "metadata": {},
   "source": [
    "Paso 4: Creación del archivo de configuración del tercer nodo esclavo"
   ]
  },
  {
   "cell_type": "code",
   "execution_count": null,
   "metadata": {
    "vscode": {
     "languageId": "plaintext"
    }
   },
   "outputs": [],
   "source": [
    "\tcmd > cd c:\\data3\\log\\notepad  c:\\data3\\config\\mongod.cnf \n",
    "\t\tdbpath=c:\\data3\\db\n",
    "\t\tlog=c:\\data3\\log\\mongo\n",
    "\t\tport=27040"
   ]
  },
  {
   "attachments": {},
   "cell_type": "markdown",
   "metadata": {},
   "source": [
    "Paso 5: Detener los servicios del nodo maestro que se ejecuta a través de services.msc"
   ]
  },
  {
   "attachments": {},
   "cell_type": "markdown",
   "metadata": {},
   "source": [
    "Paso 6: iniciar el Daemon mongod del servidor primario usando el siguiente comando modificado como replicaset"
   ]
  },
  {
   "cell_type": "code",
   "execution_count": null,
   "metadata": {
    "vscode": {
     "languageId": "plaintext"
    }
   },
   "outputs": [],
   "source": [
    "mongos --dbpath \"\" --logpath \"\" --port  --storageEngine=wiredTiger --journal --replSet \"nombredelareplica\""
   ]
  },
  {
   "cell_type": "code",
   "execution_count": null,
   "metadata": {
    "vscode": {
     "languageId": "plaintext"
    }
   },
   "outputs": [],
   "source": [
    " mongod --dbpath \"C:\\Program Files\\MongoDB\\Server\\4.4\\data\" --logpath \"C:\\Program Files\\MongoDB\\Server\\4.4\\log\\mongod.log\" --port 27017 --storageEngine=wiredTiger --journal --replSet  testreplicaset\n",
    " mongo --port 27017\n",
    "  show dbs;\n",
    " rsconf={_id:\"prodrep\", members:[{_id:0,host:\"localhost:27017\"}]}\n",
    "  > rs.initiate(rsconf)\n",
    "  >show dbs;\n"
   ]
  },
  {
   "attachments": {},
   "cell_type": "markdown",
   "metadata": {},
   "source": [
    "Paso 6: preparar el archivo de configuración a continuación para el primer nodo esclavo."
   ]
  },
  {
   "cell_type": "code",
   "execution_count": null,
   "metadata": {
    "vscode": {
     "languageId": "plaintext"
    }
   },
   "outputs": [],
   "source": [
    " mongo --dbpath \"C:\\data1\\db\" --logpath \"C:\\data1\\log\\mongod.log\" --port 27020 --storageEngine=wiredTiger --journal --replSet  prodrep \n",
    "mongod --dbpath \"C:\\data2\\db\" --logpath \"C:\\data2\\log\\mongod.log\" --port 27030 --storageEngine=wiredTiger --journal --replSet  prodrep\n",
    "primary > rs.add(\"localhost:27020\");\n",
    "\t>rs.status();\n",
    "\t>rs.add(\"localhost:27030\")\n",
    "\t>rs.status();"
   ]
  },
  {
   "attachments": {},
   "cell_type": "markdown",
   "metadata": {},
   "source": [
    "Paso 7 Iniciar sesión en los nodos esclavos como mongo shell"
   ]
  },
  {
   "cell_type": "code",
   "execution_count": null,
   "metadata": {
    "vscode": {
     "languageId": "plaintext"
    }
   },
   "outputs": [],
   "source": [
    "mongo --port 27020\n",
    "secondary > show dbs;\n",
    " >rs.slaveOk()\n",
    "\n",
    "mongo --port 27030\n",
    " secondary > show dbs;\n",
    "  >rs.slaveOk()\n",
    "\n",
    "mongo --port 27040\n",
    " secondary > show dbs;\n",
    "  >rs.slaveOk()"
   ]
  },
  {
   "attachments": {},
   "cell_type": "markdown",
   "metadata": {},
   "source": [
    "Paso 8 Prueba de replicación de la base de datos del nodo primario a los otros nodos"
   ]
  },
  {
   "cell_type": "code",
   "execution_count": null,
   "metadata": {
    "vscode": {
     "languageId": "plaintext"
    }
   },
   "outputs": [],
   "source": [
    "primary > show dbs;\n",
    " >use pingpong\n",
    " db.Arbitro.insert ({ ------------ });\n",
    " show dbs;\n",
    "\n",
    "primer nodo slave\n",
    " mongo --port 27020\n",
    " show dbs;\n",
    "\n",
    "\n",
    "segundo nodo slave\n",
    " mongo --port 27030\n",
    " show dbs;\n",
    "\n",
    "tercer nodo slave\n",
    " mongo --port 27030\n",
    " show dbs;"
   ]
  }
 ],
 "metadata": {
  "language_info": {
   "name": "python"
  },
  "orig_nbformat": 4
 },
 "nbformat": 4,
 "nbformat_minor": 2
}
